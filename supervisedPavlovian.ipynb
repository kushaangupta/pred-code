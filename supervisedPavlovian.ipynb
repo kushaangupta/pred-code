{
 "cells": [
  {
   "cell_type": "markdown",
   "metadata": {},
   "source": [
    "Research Question: Is delay sufficient to produce predictive coding?\n",
    "\n",
    "## 1. Pavlovian Task\n",
    "\n",
    "Rationale: If there's no delay in actions, cue can be ignored, but if there's a delay, prediction is necessary."
   ]
  },
  {
   "cell_type": "markdown",
   "metadata": {},
   "source": [
    "### 1.1. Generate Supervised Learning Dataset\n",
    "\n",
    "Agent will have a constant action delay that's slow learned\n",
    "\n",
    "Example Input: (action delay = 1: constant for an agent)\n",
    "```\n",
    "CS:1000100\n",
    "US:0010001\n",
    "MA:0000111\n",
    "```\n",
    "\n",
    "Example Output:\n",
    "```\n",
    "0000010\n",
    "```\n",
    "\n",
    "Constraints:\n",
    "- CS-US delay is smaller than the action delay, then it's impossible to act optimally\n",
    "    - But you can predict optimally. We can just act immediately\n",
    "    - It depends on reward persistence which is now just 1 timestep\n",
    "        - CS-US delay >= Action Delay\n",
    "- triallenmax >= (CS-US delay + 1)"
   ]
  },
  {
   "cell_type": "markdown",
   "metadata": {},
   "source": [
    "### Imports"
   ]
  },
  {
   "cell_type": "code",
   "execution_count": null,
   "metadata": {},
   "outputs": [],
   "source": [
    "import math\n",
    "import numpy as np"
   ]
  },
  {
   "cell_type": "code",
   "execution_count": null,
   "metadata": {},
   "outputs": [],
   "source": [
    "def generate_pavlovian(triallenmax=3, csusdelaymax=1, actiondelay=1):\n",
    "    assert csusdelaymax >= actiondelay\n",
    "    assert triallenmax >= csusdelaymax + 1\n",
    "    # NO: 0, CS: 1, US: 2\n",
    "    # generate input\n",
    "    inputs, outputs = [], []\n",
    "    n = 0  # number of possible samples can be generated\n",
    "    for cs_us_delay in range(actiondelay, csusdelaymax + 1):\n",
    "        csus_chunk_size = cs_us_delay + 1\n",
    "        trial_len_min = cs_us_delay + 1\n",
    "        for trial_len in range(trial_len_min, triallenmax+1):\n",
    "            nsamples = trial_len - csus_chunk_size + 1\n",
    "            n += nsamples\n",
    "            input = np.zeros(trial_len, dtype=int)\n",
    "            input[0] = 1\n",
    "            input[cs_us_delay] = 2\n",
    "            input = np.tile(input, 2)\n",
    "            output = np.zeros(trial_len * 2, dtype=int)\n",
    "            output[trial_len + cs_us_delay - actiondelay] = 1\n",
    "            for i in range(nsamples):\n",
    "                # print(triallen, cs_us_delay)\n",
    "                # print(np.roll(input, i))\n",
    "                # print(np.roll(output, i))\n",
    "                inputs.append(np.roll(input, i))\n",
    "                outputs.append(np.roll(output, i))\n",
    "\n",
    "    return inputs, outputs\n",
    "\n",
    "generate_pavlovian(triallenmax=5, csusdelaymax=3, actiondelay=2)"
   ]
  },
  {
   "cell_type": "markdown",
   "metadata": {},
   "source": [
    "Multitasker RNN vs Single task"
   ]
  },
  {
   "cell_type": "code",
   "execution_count": null,
   "metadata": {},
   "outputs": [],
   "source": []
  }
 ],
 "metadata": {
  "kernelspec": {
   "display_name": "ngym",
   "language": "python",
   "name": "python3"
  },
  "language_info": {
   "codemirror_mode": {
    "name": "ipython",
    "version": 3
   },
   "file_extension": ".py",
   "mimetype": "text/x-python",
   "name": "python",
   "nbconvert_exporter": "python",
   "pygments_lexer": "ipython3",
   "version": "3.8.17"
  }
 },
 "nbformat": 4,
 "nbformat_minor": 2
}
